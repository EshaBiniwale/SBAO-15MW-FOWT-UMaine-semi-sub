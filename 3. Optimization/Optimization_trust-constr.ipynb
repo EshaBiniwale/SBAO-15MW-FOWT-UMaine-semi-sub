{
 "cells": [
  {
   "cell_type": "code",
   "execution_count": 1,
   "metadata": {},
   "outputs": [],
   "source": [
    "import tensorflow as tf\n",
    "import numpy as np\n",
    "import pickle\n",
    "from scipy.optimize import minimize"
   ]
  },
  {
   "cell_type": "markdown",
   "metadata": {},
   "source": [
    "# 41 : Tower top acceleration - Trained on RMS values "
   ]
  },
  {
   "cell_type": "code",
   "execution_count": 2,
   "metadata": {},
   "outputs": [],
   "source": [
    "# reload predicted model \n",
    "model_41 = tf.keras.models.load_model('model_attribute_41')\n",
    "\n",
    "# load scaling of att 41\n",
    "scaler_41 = pickle.load(open('scaler_41.pkl','rb'))\n",
    "\n",
    "# upper bound\n",
    "ref_tt_acc = 0.279041"
   ]
  },
  {
   "cell_type": "code",
   "execution_count": 3,
   "metadata": {},
   "outputs": [],
   "source": [
    "def penalty_41(value):\n",
    "    x_scaled_41 = scaler_41.transform(value)\n",
    "    \n",
    "    acel_y = model_41.predict(x_scaled_41)\n",
    "\n",
    "    cons_tt_acc = acel_y - ref_tt_acc\n",
    "\n",
    "    penaltly_coeff_41 = 10e10\n",
    "\n",
    "    # exterior penalty function\n",
    "    penalty_41 = penaltly_coeff_41*np.maximum(cons_tt_acc, 0)\n",
    "\n",
    "    # flatten\n",
    "    penalty_41 = penalty_41.flatten()\n",
    "    \n",
    "    return penalty_41"
   ]
  },
  {
   "cell_type": "markdown",
   "metadata": {},
   "source": [
    "#    95  : ESYS floater SENSOR 1\tSurge displacement - Trained on absolute values of max(max, min)"
   ]
  },
  {
   "cell_type": "code",
   "execution_count": 4,
   "metadata": {},
   "outputs": [],
   "source": [
    "# reload predicted model \n",
    "model_95 = tf.keras.models.load_model('model_attribute_95')\n",
    "\n",
    "# load scaling of att 95\n",
    "feature_scaler_95 = pickle.load(open('feature_scaler_95.pkl','rb'))\n",
    "label_scaler_95 = pickle.load(open('label_scaler_95.pkl','rb'))\n",
    "\n",
    "# upper bound\n",
    "ref_surge = 49.08804937947942  #mean "
   ]
  },
  {
   "cell_type": "code",
   "execution_count": 5,
   "metadata": {},
   "outputs": [],
   "source": [
    "def penalty_95(value):\n",
    "    x_scaled_95 = feature_scaler_95.transform(value)\n",
    "    \n",
    "    att_95_y = model_95.predict(x_scaled_95)\n",
    "\n",
    "    att_95_rescaled = label_scaler_95.inverse_transform(att_95_y)\n",
    "\n",
    "    cons_95 = att_95_rescaled - ref_surge \n",
    "\n",
    "    penaltly_coeff_95 = 10e50\n",
    "\n",
    "    # exterior penalty function\n",
    "    penalty_95 = penaltly_coeff_95*np.maximum(cons_95, 0)\n",
    "\n",
    "    # flatten\n",
    "    penalty_95 = penalty_95.flatten() \n",
    "    \n",
    "    return penalty_95"
   ]
  },
  {
   "cell_type": "markdown",
   "metadata": {},
   "source": [
    " #   99  : ESYS floater SENSOR 5\tPitch displacement - Trained on absolute values of max (max, min)"
   ]
  },
  {
   "cell_type": "code",
   "execution_count": 6,
   "metadata": {},
   "outputs": [],
   "source": [
    "# reload predicted model \n",
    "model_99 = tf.keras.models.load_model('model_attribute_99')\n",
    "\n",
    "# load scaling of att 99\n",
    "scaler_99 = pickle.load(open('scaler_99.pkl','rb'))\n",
    "\n",
    "# upper bound\n",
    "ref_pitch = 0.043536"
   ]
  },
  {
   "cell_type": "code",
   "execution_count": 7,
   "metadata": {},
   "outputs": [],
   "source": [
    "def penalty_99(value):\n",
    "    x_scaled_99 = scaler_99.transform(value)\n",
    "    \n",
    "    pitch_y = model_99.predict(x_scaled_99)\n",
    "\n",
    "    cons_surge = pitch_y - ref_pitch \n",
    "\n",
    "    penaltly_coeff_99 = 10e10\n",
    "\n",
    "    #exterior penalty function\n",
    "    penalty_99 = penaltly_coeff_99*np.maximum(cons_surge, 0)\n",
    "\n",
    "    #flatten\n",
    "    penalty_99 = penalty_99.flatten() \n",
    "    \n",
    "    return penalty_99"
   ]
  },
  {
   "cell_type": "markdown",
   "metadata": {},
   "source": [
    "#    135 : ESYS line1 SENSOR 4 - Tension at Anchor - Trained on Max values"
   ]
  },
  {
   "cell_type": "code",
   "execution_count": 8,
   "metadata": {},
   "outputs": [],
   "source": [
    "#reload predicted model \n",
    "model_135 = tf.keras.models.load_model('model_attribute_135')\n",
    "\n",
    "#load scaling of att 135\n",
    "feature_scaler_135 = pickle.load(open('feature_scaler_135.pkl','rb'))\n",
    "label_scaler_135 = pickle.load(open('label_scaler_135.pkl','rb'))\n",
    "\n",
    "#upper bound\n",
    "ref_135 = 9.203349e+06"
   ]
  },
  {
   "cell_type": "code",
   "execution_count": 9,
   "metadata": {},
   "outputs": [],
   "source": [
    "def penalty_135(value):\n",
    "    x_scaled_135 = feature_scaler_135.transform(value)\n",
    "    \n",
    "    att_135_y = model_135.predict(x_scaled_135)\n",
    "\n",
    "    att_135_rescaled = label_scaler_135.inverse_transform(att_135_y)\n",
    "\n",
    "    cons_135 = att_135_rescaled - ref_135 \n",
    "\n",
    "    penaltly_coeff_135 = 10e30\n",
    "\n",
    "    #exterior penalty function\n",
    "    penalty_135 = penaltly_coeff_135*np.maximum(cons_135, 0)\n",
    "\n",
    "    #flatten\n",
    "    penalty_135 = penalty_135.flatten() \n",
    "    \n",
    "    return penalty_135"
   ]
  },
  {
   "cell_type": "markdown",
   "metadata": {},
   "source": [
    "#    215 : ESYS line1 SENSOR 84 - Tension at Fairlead - Trained on Max values"
   ]
  },
  {
   "cell_type": "code",
   "execution_count": 10,
   "metadata": {},
   "outputs": [],
   "source": [
    "#reload predicted model \n",
    "model_215 = tf.keras.models.load_model('model_attribute_215')\n",
    "\n",
    "#load scaling of att 215\n",
    "feature_scaler_215 = pickle.load(open('feature_scaler_215.pkl','rb'))\n",
    "label_scaler_215 = pickle.load(open('label_scaler_215.pkl','rb'))\n",
    "\n",
    "#upper bound\n",
    "ref_215 = 1.032996e+07"
   ]
  },
  {
   "cell_type": "code",
   "execution_count": 11,
   "metadata": {},
   "outputs": [],
   "source": [
    "def penalty_215(value):\n",
    "    x_scaled_215 = feature_scaler_215.transform(value)\n",
    "\n",
    "    att_215_y = model_215.predict(x_scaled_215)\n",
    "\n",
    "    att_215_rescaled = label_scaler_215.inverse_transform(att_215_y)\n",
    "\n",
    "    cons_215 = att_215_rescaled - ref_215 \n",
    "\n",
    "    penaltly_coeff_215 = 10e30\n",
    "\n",
    "    #exterior penalty function\n",
    "    penalty_215 = penaltly_coeff_215*np.maximum(cons_215, 0)\n",
    "\n",
    "    #flatten\n",
    "    penalty_215 = penalty_215.flatten() \n",
    "    \n",
    "    return penalty_215"
   ]
  },
  {
   "cell_type": "markdown",
   "metadata": {},
   "source": [
    "# 219 : ESYS line2 SENSOR 4 - Tension at Anchor - Trained on Max values"
   ]
  },
  {
   "cell_type": "code",
   "execution_count": 12,
   "metadata": {},
   "outputs": [],
   "source": [
    "#reload predicted model \n",
    "model_219 = tf.keras.models.load_model('model_attribute_219')\n",
    "\n",
    "#load scaling of att 219\n",
    "feature_scaler_219 = pickle.load(open('feature_scaler_219.pkl','rb'))\n",
    "label_scaler_219 = pickle.load(open('label_scaler_219.pkl','rb'))\n",
    "\n",
    "#upper bound\n",
    "ref_219 = 9.842373e+06"
   ]
  },
  {
   "cell_type": "code",
   "execution_count": 13,
   "metadata": {},
   "outputs": [],
   "source": [
    "def penalty_219(value):\n",
    "    x_scaled_219 = feature_scaler_219.transform(value)\n",
    "\n",
    "    att_219_y = model_219.predict(x_scaled_219)\n",
    "\n",
    "    att_219_rescaled = label_scaler_219.inverse_transform(att_219_y)\n",
    "\n",
    "    cons_219 = att_219_rescaled - ref_219 \n",
    "\n",
    "    penaltly_coeff_219 = 10e30\n",
    "\n",
    "    #exterior penalty function\n",
    "    penalty_219 = penaltly_coeff_219*np.maximum(cons_219, 0)\n",
    "\n",
    "    #flatten\n",
    "    penalty_219 = penalty_219.flatten() \n",
    "    \n",
    "    return penalty_219"
   ]
  },
  {
   "cell_type": "markdown",
   "metadata": {},
   "source": [
    "#     299 : ESYS line2 SENSOR 84 - Tension at Fairlead - Trained on Max values"
   ]
  },
  {
   "cell_type": "code",
   "execution_count": 14,
   "metadata": {},
   "outputs": [],
   "source": [
    "#reload predicted model \n",
    "model_299 = tf.keras.models.load_model('model_attribute_299')\n",
    "\n",
    "#load scaling of att 299\n",
    "feature_scaler_299 = pickle.load(open('feature_scaler_299.pkl','rb'))\n",
    "label_scaler_299 = pickle.load(open('label_scaler_299.pkl','rb'))\n",
    "\n",
    "#upper bound\n",
    "ref_299 = 1.096353e+07"
   ]
  },
  {
   "cell_type": "code",
   "execution_count": 15,
   "metadata": {},
   "outputs": [],
   "source": [
    "def penalty_299(value):\n",
    "    x_scaled_299 = feature_scaler_299.transform(value)\n",
    "\n",
    "    att_299_y = model_299.predict(x_scaled_299)\n",
    "\n",
    "    att_299_rescaled = label_scaler_299.inverse_transform(att_299_y)\n",
    "\n",
    "    cons_299 = att_299_rescaled - ref_299 \n",
    "\n",
    "    penaltly_coeff_299 = 10e30\n",
    "\n",
    "    #exterior penalty function\n",
    "    penalty_299 = penaltly_coeff_299*np.maximum(cons_299, 0)\n",
    "\n",
    "    #flatten\n",
    "    penalty_299 = penalty_299.flatten() \n",
    "    \n",
    "    return penalty_299"
   ]
  },
  {
   "cell_type": "markdown",
   "metadata": {},
   "source": [
    "#    303 : ESYS line3 SENSOR 4 - Tension at Anchor - Trained on Max values"
   ]
  },
  {
   "cell_type": "code",
   "execution_count": 16,
   "metadata": {},
   "outputs": [],
   "source": [
    "#reload predicted model \n",
    "model_303 = tf.keras.models.load_model('model_attribute_303')\n",
    "\n",
    "#load scaling of att 303\n",
    "feature_scaler_303 = pickle.load(open('feature_scaler_303.pkl','rb'))\n",
    "label_scaler_303 = pickle.load(open('label_scaler_303.pkl','rb'))\n",
    "\n",
    "#upper bound\n",
    "ref_303 = 1.099747e+07"
   ]
  },
  {
   "cell_type": "code",
   "execution_count": 17,
   "metadata": {},
   "outputs": [],
   "source": [
    "def penalty_303(value):\n",
    "    x_scaled_303 = feature_scaler_303.transform(value)\n",
    "\n",
    "    att_303_y = model_303.predict(x_scaled_303)\n",
    "\n",
    "    att_303_rescaled = label_scaler_303.inverse_transform(att_303_y)\n",
    "\n",
    "    cons_303 = att_303_rescaled - ref_303 \n",
    "\n",
    "    penaltly_coeff_303 = 10e30\n",
    "\n",
    "    # exterior penalty function\n",
    "    penalty_303 = penaltly_coeff_303*np.maximum(cons_303, 0)\n",
    "\n",
    "    # flatten\n",
    "    penalty_303 = penalty_303.flatten() \n",
    "    \n",
    "    return penalty_303"
   ]
  },
  {
   "cell_type": "markdown",
   "metadata": {},
   "source": [
    "#    383 : ESYS line3 SENSOR 84 - Tension at Fairlead - Trained on Max values"
   ]
  },
  {
   "cell_type": "code",
   "execution_count": 18,
   "metadata": {},
   "outputs": [],
   "source": [
    "# reload predicted model \n",
    "model_383 = tf.keras.models.load_model('model_attribute_383')\n",
    "\n",
    "# load scaling of att 383\n",
    "feature_scaler_383 = pickle.load(open('feature_scaler_383.pkl','rb'))\n",
    "label_scaler_383 = pickle.load(open('label_scaler_383.pkl','rb'))\n",
    "\n",
    "# upper bound\n",
    "ref_383 = 9.821572e+06"
   ]
  },
  {
   "cell_type": "code",
   "execution_count": 19,
   "metadata": {},
   "outputs": [],
   "source": [
    "def penalty_383(value):\n",
    "    x_scaled_383 = feature_scaler_383.transform(value)\n",
    "\n",
    "    att_383_y = model_383.predict(x_scaled_383)\n",
    "\n",
    "    att_383_rescaled = label_scaler_383.inverse_transform(att_383_y)\n",
    "\n",
    "    cons_383 = att_383_rescaled - ref_383 \n",
    "\n",
    "    penaltly_coeff_383 = 10e30\n",
    "\n",
    "    #exterior penalty function\n",
    "    penalty_383 = penaltly_coeff_383*np.maximum(cons_383, 0)\n",
    "\n",
    "    #flatten\n",
    "    penalty_383 = penalty_383.flatten() \n",
    "    \n",
    "    return penalty_383"
   ]
  },
  {
   "cell_type": "markdown",
   "metadata": {},
   "source": [
    "# Bounds for length of mooring line"
   ]
  },
  {
   "cell_type": "code",
   "execution_count": 20,
   "metadata": {},
   "outputs": [],
   "source": [
    "def define_parameters():\n",
    "    wdepth = 200.0          # water depth [m]\n",
    "    R_fairlead = 58.0       # radius from origin to fairlead (in xy-plane) [m]\n",
    "    breaking_strength = 22286 # [kN]\n",
    "    rho_water = 1.025     # water density [t/m^3]\n",
    "    m_a  = 0.685            # mass per length in air [kN/m]\n",
    "    D   = 0.333             # mooring line diameter [m]\n",
    "    A   = np.pi/4*D**2      # c/s area [m^2]\n",
    "    m_w = m_a - rho_water*A   # mass per length in water [kN/m]\n",
    "    return wdepth, R_fairlead, breaking_strength, m_w\n",
    "\n",
    "wdepth, R_fairlead, breaking_strength, m_w = define_parameters()"
   ]
  },
  {
   "cell_type": "code",
   "execution_count": 21,
   "metadata": {},
   "outputs": [],
   "source": [
    "def bounds(value):\n",
    "\n",
    "    a = (breaking_strength - m_w*(wdepth - value[0,2]) )/m_w\n",
    "\n",
    "    upper_bound =  value[0,0] - (wdepth - value[0,2])* np.sqrt(1+(2*a/(wdepth - value[0,2]))) + a * np.arccosh(1+ ((wdepth - value[0,2])/a))\n",
    "\n",
    "    comparision = value[0,1] - R_fairlead\n",
    "\n",
    "    cons_bounds = comparision - upper_bound \n",
    "\n",
    "    penaltly_coeff_bounds = 10e20\n",
    "\n",
    "    #exterior penalty function\n",
    "    penalty_bounds = penaltly_coeff_bounds*np.maximum(cons_bounds, 0)\n",
    "\n",
    "    #flatten\n",
    "    penalty_bounds = penalty_bounds.flatten() \n",
    "\n",
    "    return penalty_bounds"
   ]
  },
  {
   "cell_type": "markdown",
   "metadata": {},
   "source": [
    "# Optimization"
   ]
  },
  {
   "cell_type": "code",
   "execution_count": 22,
   "metadata": {},
   "outputs": [],
   "source": [
    "price_per_meter = 40 # [euros/m] cost of mooring line"
   ]
  },
  {
   "cell_type": "code",
   "execution_count": 23,
   "metadata": {},
   "outputs": [],
   "source": [
    "def objfun(x):\n",
    "\n",
    "    value = np.array(x).reshape(1,-1)\n",
    "\n",
    "    L_values = value[0,0]\n",
    "\n",
    "    # cost = L_values*price_per_meter + penalty_41(value) + penalty_95(value)  + penalty_99(value) + penalty_135(value) + penalty_215(value) + penalty_219(value) + penalty_299(value) + penalty_303(value) + penalty_383(value)\n",
    "    cost = L_values*price_per_meter + penalty_41(value) + penalty_95(value) + penalty_135(value) + penalty_215(value) + penalty_219(value) + penalty_299(value) + penalty_303(value) + penalty_383(value) + bounds(value)\n",
    "    \n",
    "    return cost"
   ]
  },
  {
   "cell_type": "code",
   "execution_count": 24,
   "metadata": {},
   "outputs": [],
   "source": [
    "#guess value\n",
    "# x0 = np.array([805, 840, 12.5])\n",
    "\n",
    "x0 = np.array([835, 850, 14])"
   ]
  },
  {
   "cell_type": "markdown",
   "metadata": {},
   "source": [
    "**CONSTRAINED MINIMIZATION**\n",
    "\n",
    "**Multivariate Optimization**: It contains the method minimize( ) to minimize the scalar function that contains more than one variable.\n",
    "\n",
    "**trust-constr** : Minimize a scalar function subject to constraints\n",
    "\n",
    "Method implementation trust-constr based on EQSQP for problems with constraints of the equality type and on TRIP for problems with constraints in the form of inequalities. Both methods are implemented by local minimum search algorithms in the confidence domain and are well suited for large-scale tasks."
   ]
  },
  {
   "cell_type": "code",
   "execution_count": 25,
   "metadata": {},
   "outputs": [],
   "source": [
    "hess = lambda x: np.zeros((3, 3))"
   ]
  },
  {
   "cell_type": "code",
   "execution_count": 26,
   "metadata": {},
   "outputs": [
    {
     "name": "stdout",
     "output_type": "stream",
     "text": [
      "WARNING:tensorflow:5 out of the last 5 calls to <function Model.make_predict_function.<locals>.predict_function at 0x000002278EFFE040> triggered tf.function retracing. Tracing is expensive and the excessive number of tracings could be due to (1) creating @tf.function repeatedly in a loop, (2) passing tensors with different shapes, (3) passing Python objects instead of tensors. For (1), please define your @tf.function outside of the loop. For (2), @tf.function has experimental_relax_shapes=True option that relaxes argument shapes that can avoid unnecessary retracing. For (3), please refer to https://www.tensorflow.org/guide/function#controlling_retracing and https://www.tensorflow.org/api_docs/python/tf/function for  more details.\n",
      "WARNING:tensorflow:6 out of the last 6 calls to <function Model.make_predict_function.<locals>.predict_function at 0x000002278EFFE550> triggered tf.function retracing. Tracing is expensive and the excessive number of tracings could be due to (1) creating @tf.function repeatedly in a loop, (2) passing tensors with different shapes, (3) passing Python objects instead of tensors. For (1), please define your @tf.function outside of the loop. For (2), @tf.function has experimental_relax_shapes=True option that relaxes argument shapes that can avoid unnecessary retracing. For (3), please refer to https://www.tensorflow.org/guide/function#controlling_retracing and https://www.tensorflow.org/api_docs/python/tf/function for  more details.\n",
      "| niter |f evals|CG iter|  obj func   |tr radius |   opt    |  c viol  | penalty  |CG stop|\n",
      "|-------|-------|-------|-------------|----------|----------|----------|----------|-------|\n",
      "|   1   |   4   |   0   | +2.0730e+52 | 1.00e+00 | 3.43e+52 | 0.00e+00 | 1.00e+00 |   0   |\n",
      "|   2   |   8   |   1   | +1.3500e+09 | 2.00e+00 | 4.84e+08 | 0.00e+00 | 1.00e+00 |   3   |\n",
      "|   3   |  12   |   2   | +5.2842e+08 | 4.00e+00 | 4.82e+08 | 0.00e+00 | 1.00e+00 |   3   |\n",
      "|   4   |  16   |   3   | +3.3154e+04 | 4.00e+00 | 0.00e+00 | 0.00e+00 | 1.00e+00 |   3   |\n",
      "\n",
      "`gtol` termination condition is satisfied.\n",
      "Number of iterations: 4, function evaluations: 16, CG iterations: 3, optimality: 0.00e+00, constraint violation: 0.00e+00, execution time:  4.7 s.\n"
     ]
    },
    {
     "data": {
      "text/plain": [
       "         cg_niter: 3\n",
       "     cg_stop_cond: 3\n",
       "           constr: []\n",
       "      constr_nfev: []\n",
       "      constr_nhev: []\n",
       "      constr_njev: []\n",
       "   constr_penalty: 1.0\n",
       " constr_violation: 0\n",
       "   execution_time: 4.717837333679199\n",
       "              fun: 33154.34375\n",
       "             grad: array([0., 0., 0.])\n",
       "              jac: []\n",
       "  lagrangian_grad: array([0., 0., 0.])\n",
       "          message: '`gtol` termination condition is satisfied.'\n",
       "           method: 'equality_constrained_sqp'\n",
       "             nfev: 16\n",
       "             nhev: 4\n",
       "              nit: 4\n",
       "            niter: 4\n",
       "             njev: 4\n",
       "       optimality: 0.0\n",
       "           status: 1\n",
       "          success: True\n",
       "        tr_radius: 4.0\n",
       "                v: []\n",
       "                x: array([828.85856408, 849.01005259,  14.        ])"
      ]
     },
     "execution_count": 26,
     "metadata": {},
     "output_type": "execute_result"
    }
   ],
   "source": [
    "res = minimize(objfun, x0, method='trust-constr', hess=hess, options={'verbose': 3, 'disp': True})\n",
    "res"
   ]
  },
  {
   "cell_type": "code",
   "execution_count": 27,
   "metadata": {},
   "outputs": [
    {
     "name": "stdout",
     "output_type": "stream",
     "text": [
      "Function value = 33154.34375\n",
      "Solution = [828.85856408 849.01005259  14.        ]\n"
     ]
    }
   ],
   "source": [
    "print(\"Function value =\", res.fun)\n",
    "print(\"Solution =\", res.x)"
   ]
  },
  {
   "cell_type": "code",
   "execution_count": 28,
   "metadata": {},
   "outputs": [
    {
     "data": {
      "text/plain": [
       "3"
      ]
     },
     "execution_count": 28,
     "metadata": {},
     "output_type": "execute_result"
    }
   ],
   "source": [
    "res.cg_stop_cond  #3 - Negative curvature detected"
   ]
  },
  {
   "cell_type": "code",
   "execution_count": 29,
   "metadata": {},
   "outputs": [
    {
     "data": {
      "text/plain": [
       "33154.34256336804"
      ]
     },
     "execution_count": 29,
     "metadata": {},
     "output_type": "execute_result"
    }
   ],
   "source": [
    "res.x[0]*40"
   ]
  },
  {
   "cell_type": "markdown",
   "metadata": {},
   "source": [
    "# Cross-check"
   ]
  },
  {
   "cell_type": "code",
   "execution_count": 33,
   "metadata": {},
   "outputs": [],
   "source": [
    "from termcolor import colored"
   ]
  },
  {
   "cell_type": "code",
   "execution_count": 34,
   "metadata": {},
   "outputs": [],
   "source": [
    "optimum = res.x.reshape(1,-1)"
   ]
  },
  {
   "cell_type": "code",
   "execution_count": 35,
   "metadata": {},
   "outputs": [
    {
     "name": "stdout",
     "output_type": "stream",
     "text": [
      "Tower top acceleration (predicted): 0.26689512\n",
      "Reference value: 0.27904100\n",
      "\n",
      "Predicted value less than reference value\n",
      "\u001b[32mSUCCESS\u001b[0m\n"
     ]
    }
   ],
   "source": [
    "x_scaled_41 = scaler_41.transform(optimum)\n",
    "acel_y = model_41.predict(x_scaled_41)\n",
    "\n",
    "print('Tower top acceleration (predicted): %.8f' % acel_y)\n",
    "print('Reference value: %.8f' % ref_tt_acc)\n",
    "\n",
    "if acel_y < ref_tt_acc:\n",
    "    print('\\nPredicted value less than reference value')\n",
    "    print (colored('SUCCESS', 'green'))\n",
    "else:\n",
    "    print(\"\\nPredicted value more than reference value\")\n",
    "    print (colored('FAIL', 'red'))\n"
   ]
  },
  {
   "cell_type": "code",
   "execution_count": 36,
   "metadata": {},
   "outputs": [
    {
     "name": "stdout",
     "output_type": "stream",
     "text": [
      "Surge (predicted): -4.86683416\n",
      "Reference value: 49.08804938\n",
      "\n",
      "Predicted value less than reference value\n",
      "\u001b[32mSUCCESS\u001b[0m\n"
     ]
    }
   ],
   "source": [
    "x_scaled_95 = feature_scaler_95.transform(optimum)\n",
    "att_95 = model_95.predict(x_scaled_95)\n",
    "att_95_rescaled = label_scaler_95.inverse_transform(att_95)\n",
    "\n",
    "print('Surge (predicted): %.8f' % att_95_rescaled)\n",
    "print('Reference value: %.8f' % ref_surge)\n",
    "\n",
    "if att_95_rescaled < ref_surge:\n",
    "    print('\\nPredicted value less than reference value')\n",
    "    print (colored('SUCCESS', 'green'))\n",
    "else:\n",
    "    print(\"\\nPredicted value more than reference value\")\n",
    "    print (colored('FAIL', 'red'))"
   ]
  },
  {
   "cell_type": "code",
   "execution_count": 37,
   "metadata": {},
   "outputs": [
    {
     "name": "stdout",
     "output_type": "stream",
     "text": [
      "Pitch (predicted): 0.08212215\n",
      "Reference value: 0.04353600\n",
      "\n",
      "Predicted value more than reference value\n",
      "\u001b[31mFAIL\u001b[0m\n"
     ]
    }
   ],
   "source": [
    "x_scaled_99 = scaler_99.transform(optimum)\n",
    "pitch = model_99.predict(x_scaled_99)\n",
    "\n",
    "print('Pitch (predicted): %.8f' % pitch)\n",
    "print('Reference value: %.8f' % ref_pitch)\n",
    "\n",
    "if pitch < ref_pitch:\n",
    "    print('\\nPredicted value less than reference value')\n",
    "    print (colored('SUCCESS', 'green'))\n",
    "else:\n",
    "    print(\"\\nPredicted value more than reference value\")\n",
    "    print (colored('FAIL', 'red'))"
   ]
  },
  {
   "cell_type": "code",
   "execution_count": 38,
   "metadata": {},
   "outputs": [
    {
     "name": "stdout",
     "output_type": "stream",
     "text": [
      "Tension at anchor (Line 1) (predicted): 7545163.00\n",
      "Reference value: 9203349.00\n",
      "\n",
      "Predicted value less than reference value\n",
      "\u001b[32mSUCCESS\u001b[0m\n"
     ]
    }
   ],
   "source": [
    "x_scaled_135 = feature_scaler_135.transform(optimum)\n",
    "att_135 = model_135.predict(x_scaled_135)\n",
    "att_135_rescaled = label_scaler_135.inverse_transform(att_135)\n",
    "\n",
    "print('Tension at anchor (Line 1) (predicted): %.2f' % att_135_rescaled)\n",
    "print('Reference value: %.2f' % ref_135)\n",
    "\n",
    "if att_135_rescaled < ref_135:\n",
    "    print('\\nPredicted value less than reference value')\n",
    "    print (colored('SUCCESS', 'green'))\n",
    "else:\n",
    "    print(\"\\nPredicted value more than reference value\")\n",
    "    print (colored('FAIL', 'red'))"
   ]
  },
  {
   "cell_type": "code",
   "execution_count": 39,
   "metadata": {},
   "outputs": [
    {
     "name": "stdout",
     "output_type": "stream",
     "text": [
      "Tension at fairlead (Line 1) (predicted): 7615429.50\n",
      "Reference value: 10329960.00\n",
      "\n",
      "Predicted value less than reference value\n",
      "\u001b[32mSUCCESS\u001b[0m\n"
     ]
    }
   ],
   "source": [
    "x_scaled_215 = feature_scaler_215.transform(optimum)\n",
    "att_215 = model_215.predict(x_scaled_215)\n",
    "att_215_rescaled = label_scaler_215.inverse_transform(att_215)\n",
    "\n",
    "print('Tension at fairlead (Line 1) (predicted): %.2f' % att_215_rescaled)\n",
    "print('Reference value: %.2f' % ref_215)\n",
    "\n",
    "if att_215_rescaled < ref_215:\n",
    "    print('\\nPredicted value less than reference value')\n",
    "    print (colored('SUCCESS', 'green'))\n",
    "else:\n",
    "    print(\"\\nPredicted value more than reference value\")\n",
    "    print (colored('FAIL', 'red'))"
   ]
  },
  {
   "cell_type": "code",
   "execution_count": 40,
   "metadata": {},
   "outputs": [
    {
     "name": "stdout",
     "output_type": "stream",
     "text": [
      "Tension at anchor (Line 2) (predicted): 9090774.00\n",
      "Reference value: 9842373.00\n",
      "\n",
      "Predicted value less than reference value\n",
      "\u001b[32mSUCCESS\u001b[0m\n"
     ]
    }
   ],
   "source": [
    "x_scaled_219 = feature_scaler_219.transform(optimum)\n",
    "att_219 = model_219.predict(x_scaled_219)\n",
    "att_219_rescaled = label_scaler_219.inverse_transform(att_219)\n",
    "\n",
    "print('Tension at anchor (Line 2) (predicted): %.2f' % att_219_rescaled)\n",
    "print('Reference value: %.2f' % ref_219)\n",
    "\n",
    "if att_219_rescaled < ref_219:\n",
    "    print('\\nPredicted value less than reference value')\n",
    "    print (colored('SUCCESS', 'green'))\n",
    "else:\n",
    "    print(\"\\nPredicted value more than reference value\")\n",
    "    print (colored('FAIL', 'red'))"
   ]
  },
  {
   "cell_type": "code",
   "execution_count": 41,
   "metadata": {},
   "outputs": [
    {
     "name": "stdout",
     "output_type": "stream",
     "text": [
      "Tension at fairlead (Line 2) (predicted): 9947041.00\n",
      "Reference value: 10963530.00\n",
      "\n",
      "Predicted value less than reference value\n",
      "\u001b[32mSUCCESS\u001b[0m\n"
     ]
    }
   ],
   "source": [
    "x_scaled_299 = feature_scaler_299.transform(optimum)\n",
    "att_299 = model_299.predict(x_scaled_299)\n",
    "att_299_rescaled = label_scaler_299.inverse_transform(att_299)\n",
    "\n",
    "print('Tension at fairlead (Line 2) (predicted): %.2f' % att_299_rescaled)\n",
    "print('Reference value: %.2f' % ref_299)\n",
    "\n",
    "if att_299_rescaled < ref_299:\n",
    "    print('\\nPredicted value less than reference value')\n",
    "    print (colored('SUCCESS', 'green'))\n",
    "else:\n",
    "    print(\"\\nPredicted value more than reference value\")\n",
    "    print (colored('FAIL', 'red'))"
   ]
  },
  {
   "cell_type": "code",
   "execution_count": 42,
   "metadata": {},
   "outputs": [
    {
     "name": "stdout",
     "output_type": "stream",
     "text": [
      "Tension at anchor (Line 3) (predicted): 8630920.00\n",
      "Reference value: 10997470.00\n",
      "\n",
      "Predicted value less than reference value\n",
      "\u001b[32mSUCCESS\u001b[0m\n"
     ]
    }
   ],
   "source": [
    "x_scaled_303 = feature_scaler_303.transform(optimum)\n",
    "att_303 = model_303.predict(x_scaled_303)\n",
    "att_303_rescaled = label_scaler_303.inverse_transform(att_303)\n",
    "\n",
    "print('Tension at anchor (Line 3) (predicted): %.2f' % att_303_rescaled)\n",
    "print('Reference value: %.2f' % ref_303)\n",
    "\n",
    "if att_303_rescaled < ref_303:\n",
    "    print('\\nPredicted value less than reference value')\n",
    "    print (colored('SUCCESS', 'green'))\n",
    "else:\n",
    "    print(\"\\nPredicted value more than reference value\")\n",
    "    print (colored('FAIL', 'red'))"
   ]
  },
  {
   "cell_type": "code",
   "execution_count": 43,
   "metadata": {},
   "outputs": [
    {
     "name": "stdout",
     "output_type": "stream",
     "text": [
      "Tension at fairlead (Line 3) (predicted): 9769647.00\n",
      "Reference value: 9821572.00\n",
      "\n",
      "Predicted value less than reference value\n",
      "\u001b[32mSUCCESS\u001b[0m\n"
     ]
    }
   ],
   "source": [
    "x_scaled_383 = feature_scaler_383.transform(optimum)\n",
    "att_383 = model_383.predict(x_scaled_383)\n",
    "att_383_rescaled = label_scaler_383.inverse_transform(att_383)\n",
    "\n",
    "print('Tension at fairlead (Line 3) (predicted): %.2f' % att_383_rescaled)\n",
    "print('Reference value: %.2f' % ref_383)\n",
    "\n",
    "if att_383_rescaled < ref_383:\n",
    "    print('\\nPredicted value less than reference value')\n",
    "    print (colored('SUCCESS', 'green'))\n",
    "else:\n",
    "    print(\"\\nPredicted value more than reference value\")\n",
    "    print (colored('FAIL', 'red'))"
   ]
  },
  {
   "cell_type": "markdown",
   "metadata": {},
   "source": [
    "# Summary"
   ]
  },
  {
   "cell_type": "code",
   "execution_count": 44,
   "metadata": {},
   "outputs": [],
   "source": [
    "import texttable"
   ]
  },
  {
   "cell_type": "code",
   "execution_count": 45,
   "metadata": {},
   "outputs": [
    {
     "name": "stdout",
     "output_type": "stream",
     "text": [
      "+------------+---------+---------+----+------------------------+--------+---------------------+---------------------+---------------------+---------------------+---------------------+---------------------+\n",
      "| Total cost |    L    |    R    | z  | Tower top acceleration | Surge  | Max T at A [Line 1] | Max T at F [Line 1] | Max T at A [Line 2] | Max T at F [Line 2] | Max T at A [Line 3] | Max T at F [Line 3] |\n",
      "+============+=========+=========+====+========================+========+=====================+=====================+=====================+=====================+=====================+=====================+\n",
      "|   Euros    |    m    |    m    | m  |         m/s^2          |   m    |          N          |          N          |          N          |          N          |          N          |          N          |\n",
      "+------------+---------+---------+----+------------------------+--------+---------------------+---------------------+---------------------+---------------------+---------------------+---------------------+\n",
      "| 33154.344  | 828.859 | 849.010 | 14 |         0.267          | -4.867 |       7545163       |     7615429.500     |       9090774       |       9947041       |       8630920       |       9769647       |\n",
      "+------------+---------+---------+----+------------------------+--------+---------------------+---------------------+---------------------+---------------------+---------------------+---------------------+\n"
     ]
    }
   ],
   "source": [
    "tableObj = texttable.Texttable(0)\n",
    "tableObj.set_cols_align([\"c\", \"c\", \"c\", \"c\", \"c\", \"c\", \"c\", \"c\", \"c\", \"c\", \"c\", \"c\"])\n",
    "tableObj.set_cols_valign([\"m\", \"m\", \"m\", \"m\", \"m\", \"m\", \"m\", \"m\", \"m\", \"m\", \"m\", \"m\"])\n",
    "tableObj.add_rows([\n",
    "        [\"Total cost\", \"L\", \"R\", \"z\", \"Tower top acceleration\", \"Surge\", \"Max T at A [Line 1]\",  \"Max T at F [Line 1]\", \"Max T at A [Line 2]\",  \"Max T at F [Line 2]\", \"Max T at A [Line 3]\",  \"Max T at F [Line 3]\"],\n",
    "        [\"Euros\", \"m\", \"m\", \"m\", \"m/s^2\", \"m\", \"N\",  \"N\", \"N\",  \"N\", \"N\",  \"N\"],\n",
    "        [res.fun, res.x[0], res.x[1], res.x[2], acel_y, att_95_rescaled, att_135_rescaled, att_215_rescaled, att_219_rescaled,  att_299_rescaled, att_303_rescaled, att_383_rescaled]\n",
    "        ])\n",
    "print(tableObj.draw())"
   ]
  },
  {
   "cell_type": "code",
   "execution_count": 46,
   "metadata": {},
   "outputs": [
    {
     "name": "stdout",
     "output_type": "stream",
     "text": [
      "+------------+-------+-------+-------+---------------------+-----------+---------------------+---------------------+---------------------+---------------------+---------------------+---------------------+\n",
      "| Total cost | Ref L | Ref R | Ref z | Ref Tower top accel | Ref Surge | Ref Max T at A [L1] | Ref Max T at F [L1] | Ref Max T at A [L2] | Ref Max T at F [L2] | Ref Max T at A [L3] | Ref Max T at F [L3] |\n",
      "+============+=======+=======+=======+=====================+===========+=====================+=====================+=====================+=====================+=====================+=====================+\n",
      "|   Euros    |   m   |   m   |   m   |        m/s^2        |     m     |          N          |          N          |          N          |          N          |          N          |          N          |\n",
      "+------------+-------+-------+-------+---------------------+-----------+---------------------+---------------------+---------------------+---------------------+---------------------+---------------------+\n",
      "|   33600    |  840  |  850  |  14   |        0.279        |  49.088   |       9203349       |      10329960       |       9842373       |      10963530       |      10997470       |       9821572       |\n",
      "+------------+-------+-------+-------+---------------------+-----------+---------------------+---------------------+---------------------+---------------------+---------------------+---------------------+\n"
     ]
    }
   ],
   "source": [
    "tableObj = texttable.Texttable(0)\n",
    "tableObj.set_cols_align([\"c\",\"c\", \"c\", \"c\", \"c\", \"c\", \"c\", \"c\", \"c\", \"c\", \"c\", \"c\"])\n",
    "tableObj.set_cols_valign([\"m\", \"m\", \"m\", \"m\", \"m\", \"m\", \"m\", \"m\", \"m\", \"m\", \"m\", \"m\"])\n",
    "tableObj.add_rows([\n",
    "        [\"Total cost\",\"Ref L\", \"Ref R\", \"Ref z\", \"Ref Tower top accel\", \"Ref Surge\", \"Ref Max T at A [L1]\",  \"Ref Max T at F [L1]\", \"Ref Max T at A [L2]\",  \"Ref Max T at F [L2]\", \"Ref Max T at A [L3]\",  \"Ref Max T at F [L3]\"],\n",
    "        [ \"Euros\",\"m\", \"m\", \"m\", \"m/s^2\", \"m\", \"N\",  \"N\", \"N\",  \"N\", \"N\",  \"N\"],\n",
    "        [ 40*840, 840, 850, 14, ref_tt_acc, ref_surge, ref_135, ref_215, ref_219,  ref_299, ref_303, ref_383],\n",
    "        ])\n",
    "print(tableObj.draw())"
   ]
  }
 ],
 "metadata": {
  "interpreter": {
   "hash": "736fa68ff83595c7f8d3cae4bb3278c5a6db62c64a20620ec1ebcd78987b502b"
  },
  "kernelspec": {
   "display_name": "Python 3.9.10 ('dtu')",
   "language": "python",
   "name": "python3"
  },
  "language_info": {
   "codemirror_mode": {
    "name": "ipython",
    "version": 3
   },
   "file_extension": ".py",
   "mimetype": "text/x-python",
   "name": "python",
   "nbconvert_exporter": "python",
   "pygments_lexer": "ipython3",
   "version": "3.9.13"
  },
  "orig_nbformat": 4
 },
 "nbformat": 4,
 "nbformat_minor": 2
}
